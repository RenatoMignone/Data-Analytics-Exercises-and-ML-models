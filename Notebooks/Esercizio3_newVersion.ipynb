{
 "cells": [
  {
   "cell_type": "code",
   "execution_count": null,
   "id": "c235de79-5f70-4dcf-9414-4a43e3b9d13d",
   "metadata": {
    "tags": []
   },
   "outputs": [
    {
     "name": "stdout",
     "output_type": "stream",
     "text": [
      "   Anno  Codice Regione   Regione  Codice Azienda  Tipo Azienda  \\\n",
      "0  2010              10  PIEMONTE             201             1   \n",
      "1  2010              10  PIEMONTE             201             1   \n",
      "2  2010              10  PIEMONTE             201             1   \n",
      "3  2010              10  PIEMONTE             201             1   \n",
      "4  2010              10  PIEMONTE             201             1   \n",
      "\n",
      "   Codice struttura                   Denominazione struttura  \\\n",
      "0             10007  OSPEDALE MARTINI                           \n",
      "1             10010  OSPEDALE OFTALMICO                         \n",
      "2             10012  OSPEDALE EVANGELICO VALDESE                \n",
      "3             10012  OSPEDALE EVANGELICO VALDESE                \n",
      "4             10612  CASA DI CURA KOELLIKER OSPEDALINO          \n",
      "\n",
      "                                  Indirizzo  Codice Comune  \\\n",
      "0  VIA TOFANE                                         1272   \n",
      "1  VIA JUVARRA FILIPPO                                1272   \n",
      "2  VIA PELLICO SILVIO                                 1272   \n",
      "3  VIA PELLICO SILVIO                                 1272   \n",
      "4  CORSO FERRARIS GALILEO                             1272   \n",
      "\n",
      "                                     Comune Sigla provincia  \\\n",
      "0  TORINO                                                TO   \n",
      "1  TORINO                                                TO   \n",
      "2  TORINO                                                TO   \n",
      "3  TORINO                                                TO   \n",
      "4  TORINO                                                TO   \n",
      "\n",
      "   Codice tipo struttura        Descrizione tipo struttura Tipo di Disciplina  \\\n",
      "0                    1.0       Ospedale a gestione diretta              ACUTI   \n",
      "1                    1.0       Ospedale a gestione diretta              ACUTI   \n",
      "2                    1.0       Ospedale a gestione diretta              ACUTI   \n",
      "3                    1.0       Ospedale a gestione diretta     RIABILITAZIONE   \n",
      "4                    5.1  Casa di cura privata accreditata              ACUTI   \n",
      "\n",
      "  Posti letto degenza ordinaria Posti letto degenza a pagamento  \\\n",
      "0                           202                               0   \n",
      "1                            39                               0   \n",
      "2                            51                               0   \n",
      "3                             0                               0   \n",
      "4                            84                               0   \n",
      "\n",
      "  Posti letto Day Hospital Posti letto Day Surgery Totale posti letto  \n",
      "0                       21                       1                224  \n",
      "1                        4                      20                 63  \n",
      "2                       20                      36                107  \n",
      "3                        1                       0                  1  \n",
      "4                        0                      21                105  \n",
      "------\n",
      "Anno                                 int64\n",
      "Codice Regione                       int64\n",
      "Regione                             object\n",
      "Codice Azienda                       int64\n",
      "Tipo Azienda                         int64\n",
      "Codice struttura                     int64\n",
      "Denominazione struttura             object\n",
      "Indirizzo                           object\n",
      "Codice Comune                        int64\n",
      "Comune                              object\n",
      "Sigla provincia                     object\n",
      "Codice tipo struttura              float64\n",
      "Descrizione tipo struttura          object\n",
      "Tipo di Disciplina                  object\n",
      "Posti letto degenza ordinaria       object\n",
      "Posti letto degenza a pagamento     object\n",
      "Posti letto Day Hospital            object\n",
      "Posti letto Day Surgery             object\n",
      "Totale posti letto                  object\n",
      "dtype: object\n"
     ]
    },
    {
     "data": {
      "text/plain": [
       "count     1922\n",
       "unique     400\n",
       "top         20\n",
       "freq        69\n",
       "Name: Totale posti letto, dtype: object"
      ]
     },
     "execution_count": 1,
     "metadata": {},
     "output_type": "execute_result"
    }
   ],
   "source": [
    "import pandas as pd\n",
    "import matplotlib.pyplot as plt\n",
    "csv = pd.read_csv('../Datasets/Datasets3/C_17_dataset_18_0_upFile.csv', sep=';', encoding='ISO-8859-1')\n",
    "csv.rename(columns = {'Descrizione Regione':'Regione'}, inplace = True)\n",
    "\n",
    "#Ritorna i primi elementi di un dataset(default: 5)\n",
    "print (csv.head())\n",
    "print(\"------\")\n",
    "#Ritorna i tipi dei vari attributi\n",
    "print (csv.dtypes)\n",
    "\n",
    "#Lista con posti letto relativi al 2014\n",
    "csv2014 = csv[csv['Anno'] == 2014]\n",
    "beds2014 = csv2014['Totale posti letto']\n",
    "\n",
    "beds2014.describe()"
   ]
  },
  {
   "cell_type": "code",
   "execution_count": 2,
   "id": "8ed3c323-9f92-434c-9a66-05e06db4e4ad",
   "metadata": {
    "tags": []
   },
   "outputs": [
    {
     "data": {
      "image/png": "[encoded data removed]",
      "text/plain": [
       "<Figure size 640x480 with 1 Axes>"
      ]
     },
     "metadata": {},
     "output_type": "display_data"
    }
   ],
   "source": [
    "#primo istogramma\n",
    "histo = beds2014.hist(bins=50)\n",
    "histo.set_title(\"Distribuzione dei letti per ospedale - 2019\")\n",
    "histo.set_xlabel(\"numero di letti\")\n",
    "histo.set_ylabel(\"count\")\n",
    "\n",
    "plt.show()"
   ]
  },
  {
   "cell_type": "code",
   "execution_count": 3,
   "id": "9aabe293-356a-4839-8ae0-9e445519e555",
   "metadata": {
    "tags": []
   },
   "outputs": [
    {
     "name": "stdout",
     "output_type": "stream",
     "text": [
      "                       Denominazione struttura  \\\n",
      "8924  OSPEDALE DELLE COLLINE DELL'ALBEGNA        \n",
      "9386  'CASA DI CURA PROF.DOTT. LUIGI COBELLIS'   \n",
      "8849  SOL ET SALUS                               \n",
      "8088  CASA DI CURA CITTA' DI BRA                 \n",
      "9028              CENTRO OSPEDALIERO S.STEFANO   \n",
      "...                                        ...   \n",
      "8814  OSPEDALE \"SANTA MARIA DELLE CROCI\" RAVEN   \n",
      "8047  OSPEDALE UNICO DEL VERCELLESE              \n",
      "7988  OSPEDALE MARIA VITTORIA                    \n",
      "8077  PRESIDIO UNIFICATO SAVIGLIANO-SALUZZO CN   \n",
      "8835  OSPEDALE PRIVATO \"SAN PIER DAMIANO HOSPI   \n",
      "\n",
      "                                        Comune Totale posti letto  \n",
      "8924  ORBETELLO                                                99  \n",
      "9386  VALLO DELLA LUCANIA                                      99  \n",
      "8849  RIMINI                                                   99  \n",
      "8088  BRA                                                      99  \n",
      "9028  POTENZA PICENA                                           99  \n",
      "...                                        ...                ...  \n",
      "8814  RAVENNA                                                   1  \n",
      "8047  VERCELLI                                                  1  \n",
      "7988  TORINO                                                    1  \n",
      "8077  SAVIGLIANO                                                1  \n",
      "8835  FAENZA                                                    1  \n",
      "\n",
      "[1922 rows x 3 columns]\n"
     ]
    }
   ],
   "source": [
    "#stampa in ordine decrescente di posti letto\n",
    "csv2014 = csv2014.sort_values('Totale posti letto', ascending = False)\n",
    "print(csv2014[['Denominazione struttura', 'Comune' ,'Totale posti letto']])"
   ]
  },
  {
   "cell_type": "code",
   "execution_count": 4,
   "id": "649ddb40-5fe9-4832-894d-db46d6202178",
   "metadata": {
    "tags": []
   },
   "outputs": [
    {
     "ename": "TypeError",
     "evalue": "no numeric data to plot",
     "output_type": "error",
     "traceback": [
      "\u001b[1;31m---------------------------------------------------------------------------\u001b[0m",
      "\u001b[1;31mTypeError\u001b[0m                                 Traceback (most recent call last)",
      "Cell \u001b[1;32mIn[4], line 5\u001b[0m\n\u001b[0;32m      2\u001b[0m bedsByComune \u001b[38;5;241m=\u001b[39m csv2014[[\u001b[38;5;124m'\u001b[39m\u001b[38;5;124mRegione\u001b[39m\u001b[38;5;124m'\u001b[39m, \u001b[38;5;124m'\u001b[39m\u001b[38;5;124mTotale posti letto\u001b[39m\u001b[38;5;124m'\u001b[39m]]\u001b[38;5;241m.\u001b[39mgroupby(\u001b[38;5;124m'\u001b[39m\u001b[38;5;124mRegione\u001b[39m\u001b[38;5;124m'\u001b[39m)\u001b[38;5;66;03m#groupby() permette di creare tanti gruppi a seconda del campo passato come parametri\u001b[39;00m\n\u001b[0;32m      4\u001b[0m summedAndSorted \u001b[38;5;241m=\u001b[39m bedsByComune\u001b[38;5;241m.\u001b[39msum()\u001b[38;5;241m.\u001b[39msort_values(\u001b[38;5;124m'\u001b[39m\u001b[38;5;124mTotale posti letto\u001b[39m\u001b[38;5;124m'\u001b[39m)\n\u001b[1;32m----> 5\u001b[0m \u001b[43msummedAndSorted\u001b[49m\u001b[38;5;241;43m.\u001b[39;49m\u001b[43mplot\u001b[49m\u001b[38;5;241;43m.\u001b[39;49m\u001b[43mbarh\u001b[49m\u001b[43m(\u001b[49m\u001b[43m)\u001b[49m\n\u001b[0;32m      6\u001b[0m plt\u001b[38;5;241m.\u001b[39mshow()\n",
      "File \u001b[1;32m~\\AppData\\Local\\Programs\\Python\\Python311\\Lib\\site-packages\\pandas\\plotting\\_core.py:1245\u001b[0m, in \u001b[0;36mPlotAccessor.barh\u001b[1;34m(self, x, y, **kwargs)\u001b[0m\n\u001b[0;32m   1161\u001b[0m \u001b[38;5;129m@Appender\u001b[39m(\n\u001b[0;32m   1162\u001b[0m \u001b[38;5;250m    \u001b[39m\u001b[38;5;124;03m\"\"\"\u001b[39;00m\n\u001b[0;32m   1163\u001b[0m \u001b[38;5;124;03m    See Also\u001b[39;00m\n\u001b[1;32m   (...)\u001b[0m\n\u001b[0;32m   1234\u001b[0m \u001b[38;5;129m@Appender\u001b[39m(_bar_or_line_doc)\n\u001b[0;32m   1235\u001b[0m \u001b[38;5;28;01mdef\u001b[39;00m \u001b[38;5;21mbarh\u001b[39m(\u001b[38;5;28mself\u001b[39m, x\u001b[38;5;241m=\u001b[39m\u001b[38;5;28;01mNone\u001b[39;00m, y\u001b[38;5;241m=\u001b[39m\u001b[38;5;28;01mNone\u001b[39;00m, \u001b[38;5;241m*\u001b[39m\u001b[38;5;241m*\u001b[39mkwargs) \u001b[38;5;241m-\u001b[39m\u001b[38;5;241m>\u001b[39m PlotAccessor:\n\u001b[0;32m   1236\u001b[0m \u001b[38;5;250m    \u001b[39m\u001b[38;5;124;03m\"\"\"\u001b[39;00m\n\u001b[0;32m   1237\u001b[0m \u001b[38;5;124;03m    Make a horizontal bar plot.\u001b[39;00m\n\u001b[0;32m   1238\u001b[0m \n\u001b[1;32m   (...)\u001b[0m\n\u001b[0;32m   1243\u001b[0m \u001b[38;5;124;03m    other axis represents a measured value.\u001b[39;00m\n\u001b[0;32m   1244\u001b[0m \u001b[38;5;124;03m    \"\"\"\u001b[39;00m\n\u001b[1;32m-> 1245\u001b[0m     \u001b[38;5;28;01mreturn\u001b[39;00m \u001b[38;5;28;43mself\u001b[39;49m\u001b[43m(\u001b[49m\u001b[43mkind\u001b[49m\u001b[38;5;241;43m=\u001b[39;49m\u001b[38;5;124;43m\"\u001b[39;49m\u001b[38;5;124;43mbarh\u001b[39;49m\u001b[38;5;124;43m\"\u001b[39;49m\u001b[43m,\u001b[49m\u001b[43m \u001b[49m\u001b[43mx\u001b[49m\u001b[38;5;241;43m=\u001b[39;49m\u001b[43mx\u001b[49m\u001b[43m,\u001b[49m\u001b[43m \u001b[49m\u001b[43my\u001b[49m\u001b[38;5;241;43m=\u001b[39;49m\u001b[43my\u001b[49m\u001b[43m,\u001b[49m\u001b[43m \u001b[49m\u001b[38;5;241;43m*\u001b[39;49m\u001b[38;5;241;43m*\u001b[39;49m\u001b[43mkwargs\u001b[49m\u001b[43m)\u001b[49m\n",
      "File \u001b[1;32m~\\AppData\\Local\\Programs\\Python\\Python311\\Lib\\site-packages\\pandas\\plotting\\_core.py:1000\u001b[0m, in \u001b[0;36mPlotAccessor.__call__\u001b[1;34m(self, *args, **kwargs)\u001b[0m\n\u001b[0;32m    997\u001b[0m             label_name \u001b[38;5;241m=\u001b[39m label_kw \u001b[38;5;129;01mor\u001b[39;00m data\u001b[38;5;241m.\u001b[39mcolumns\n\u001b[0;32m    998\u001b[0m             data\u001b[38;5;241m.\u001b[39mcolumns \u001b[38;5;241m=\u001b[39m label_name\n\u001b[1;32m-> 1000\u001b[0m \u001b[38;5;28;01mreturn\u001b[39;00m \u001b[43mplot_backend\u001b[49m\u001b[38;5;241;43m.\u001b[39;49m\u001b[43mplot\u001b[49m\u001b[43m(\u001b[49m\u001b[43mdata\u001b[49m\u001b[43m,\u001b[49m\u001b[43m \u001b[49m\u001b[43mkind\u001b[49m\u001b[38;5;241;43m=\u001b[39;49m\u001b[43mkind\u001b[49m\u001b[43m,\u001b[49m\u001b[43m \u001b[49m\u001b[38;5;241;43m*\u001b[39;49m\u001b[38;5;241;43m*\u001b[39;49m\u001b[43mkwargs\u001b[49m\u001b[43m)\u001b[49m\n",
      "File \u001b[1;32m~\\AppData\\Local\\Programs\\Python\\Python311\\Lib\\site-packages\\pandas\\plotting\\_matplotlib\\__init__.py:71\u001b[0m, in \u001b[0;36mplot\u001b[1;34m(data, kind, **kwargs)\u001b[0m\n\u001b[0;32m     69\u001b[0m         kwargs[\u001b[38;5;124m\"\u001b[39m\u001b[38;5;124max\u001b[39m\u001b[38;5;124m\"\u001b[39m] \u001b[38;5;241m=\u001b[39m \u001b[38;5;28mgetattr\u001b[39m(ax, \u001b[38;5;124m\"\u001b[39m\u001b[38;5;124mleft_ax\u001b[39m\u001b[38;5;124m\"\u001b[39m, ax)\n\u001b[0;32m     70\u001b[0m plot_obj \u001b[38;5;241m=\u001b[39m PLOT_CLASSES[kind](data, \u001b[38;5;241m*\u001b[39m\u001b[38;5;241m*\u001b[39mkwargs)\n\u001b[1;32m---> 71\u001b[0m \u001b[43mplot_obj\u001b[49m\u001b[38;5;241;43m.\u001b[39;49m\u001b[43mgenerate\u001b[49m\u001b[43m(\u001b[49m\u001b[43m)\u001b[49m\n\u001b[0;32m     72\u001b[0m plot_obj\u001b[38;5;241m.\u001b[39mdraw()\n\u001b[0;32m     73\u001b[0m \u001b[38;5;28;01mreturn\u001b[39;00m plot_obj\u001b[38;5;241m.\u001b[39mresult\n",
      "File \u001b[1;32m~\\AppData\\Local\\Programs\\Python\\Python311\\Lib\\site-packages\\pandas\\plotting\\_matplotlib\\core.py:450\u001b[0m, in \u001b[0;36mMPLPlot.generate\u001b[1;34m(self)\u001b[0m\n\u001b[0;32m    448\u001b[0m \u001b[38;5;28;01mdef\u001b[39;00m \u001b[38;5;21mgenerate\u001b[39m(\u001b[38;5;28mself\u001b[39m) \u001b[38;5;241m-\u001b[39m\u001b[38;5;241m>\u001b[39m \u001b[38;5;28;01mNone\u001b[39;00m:\n\u001b[0;32m    449\u001b[0m     \u001b[38;5;28mself\u001b[39m\u001b[38;5;241m.\u001b[39m_args_adjust()\n\u001b[1;32m--> 450\u001b[0m     \u001b[38;5;28;43mself\u001b[39;49m\u001b[38;5;241;43m.\u001b[39;49m\u001b[43m_compute_plot_data\u001b[49m\u001b[43m(\u001b[49m\u001b[43m)\u001b[49m\n\u001b[0;32m    451\u001b[0m     \u001b[38;5;28mself\u001b[39m\u001b[38;5;241m.\u001b[39m_setup_subplots()\n\u001b[0;32m    452\u001b[0m     \u001b[38;5;28mself\u001b[39m\u001b[38;5;241m.\u001b[39m_make_plot()\n",
      "File \u001b[1;32m~\\AppData\\Local\\Programs\\Python\\Python311\\Lib\\site-packages\\pandas\\plotting\\_matplotlib\\core.py:635\u001b[0m, in \u001b[0;36mMPLPlot._compute_plot_data\u001b[1;34m(self)\u001b[0m\n\u001b[0;32m    633\u001b[0m \u001b[38;5;66;03m# no non-numeric frames or series allowed\u001b[39;00m\n\u001b[0;32m    634\u001b[0m \u001b[38;5;28;01mif\u001b[39;00m is_empty:\n\u001b[1;32m--> 635\u001b[0m     \u001b[38;5;28;01mraise\u001b[39;00m \u001b[38;5;167;01mTypeError\u001b[39;00m(\u001b[38;5;124m\"\u001b[39m\u001b[38;5;124mno numeric data to plot\u001b[39m\u001b[38;5;124m\"\u001b[39m)\n\u001b[0;32m    637\u001b[0m \u001b[38;5;28mself\u001b[39m\u001b[38;5;241m.\u001b[39mdata \u001b[38;5;241m=\u001b[39m numeric_data\u001b[38;5;241m.\u001b[39mapply(\u001b[38;5;28mself\u001b[39m\u001b[38;5;241m.\u001b[39m_convert_to_ndarray)\n",
      "\u001b[1;31mTypeError\u001b[0m: no numeric data to plot"
     ]
    }
   ],
   "source": [
    "#costruzione plot bar by posti letto per comune\n",
    "bedsByComune = csv2014[['Regione', 'Totale posti letto']].groupby('Regione')#groupby() permette di creare tanti gruppi a seconda del campo passato come parametri\n",
    "\n",
    "summedAndSorted = bedsByComune.sum().sort_values('Totale posti letto')\n",
    "summedAndSorted.plot.barh()\n",
    "plt.show()"
   ]
  },
  {
   "cell_type": "markdown",
   "id": "a9ce61f4-4471-4fc5-b213-3bf6c479f714",
   "metadata": {
    "tags": []
   },
   "source": [
    "Procediamo con il caricare un dataset relativo alla popolazione per regione nell'anno 2014 (fonte: ISTAT)"
   ]
  },
  {
   "cell_type": "code",
   "execution_count": 5,
   "id": "93277d6a-2e59-461b-81ef-dad42b3f46ca",
   "metadata": {
    "tags": []
   },
   "outputs": [
    {
     "name": "stdout",
     "output_type": "stream",
     "text": [
      "   Codice regione   Regione Età    Sesso  Popolazione\n",
      "0             1.0  PIEMONTE   0   Totale      28544.0\n",
      "1             1.0  PIEMONTE   0   Maschi      14656.0\n",
      "2             1.0  PIEMONTE   0  Femmine      13888.0\n",
      "3             1.0  PIEMONTE   1   Totale      29793.0\n",
      "4             1.0  PIEMONTE   1   Maschi      15269.0\n",
      "------\n",
      "Codice regione    float64\n",
      "Regione            object\n",
      "Età                object\n",
      "Sesso              object\n",
      "Popolazione       float64\n",
      "dtype: object\n"
     ]
    },
    {
     "data": {
      "image/png": "[encoded data removed]",
      "text/plain": [
       "<Figure size 640x480 with 1 Axes>"
      ]
     },
     "metadata": {},
     "output_type": "display_data"
    }
   ],
   "source": [
    "csv2 = pd.read_csv('./Datasets3/Ricostruzione della popolazione 2002-2019.csv', sep=';', encoding='ISO-8859-1')\n",
    "\n",
    "csv2.infer_objects()\n",
    "\n",
    "csv2['Regione'] = csv2['Regione'].str.upper()\n",
    "\n",
    "#Ritorna i primi elementi di un dataset(default: 5)\n",
    "print (csv2.head())\n",
    "print(\"------\")\n",
    "#Ritorna i tipi dei vari attributi\n",
    "print (csv2.dtypes)\n",
    "\n",
    "#Lista di popolazioni per regione nel 2019 + istogramma descrittivo\n",
    "popolazione2014byreg = csv2[['Regione', 'Popolazione']].groupby('Regione')\n",
    "\n",
    "#print(\"--------------------------------\")\n",
    "#for key, item in popolazione2014byreg:\n",
    "#    print(popolazione2014byreg.get_group(key), \"\\n\\n\")\n",
    "\n",
    "pop_sumnsrt = popolazione2014byreg.sum().sort_values('Popolazione')\n",
    "    \n",
    "pop_sumnsrt.plot.barh()\n",
    "plt.show()"
   ]
  },
  {
   "cell_type": "markdown",
   "id": "70c097df-984b-485e-865e-28142bcf14c4",
   "metadata": {},
   "source": [
    "Definiamo un rapporto posti letto/popolazione"
   ]
  },
  {
   "cell_type": "code",
   "execution_count": 6,
   "id": "8067efd4-bfab-4fa3-99c1-7759831a2a22",
   "metadata": {
    "tags": []
   },
   "outputs": [
    {
     "name": "stdout",
     "output_type": "stream",
     "text": [
      "                              Popolazione\n",
      "Regione                                  \n",
      "ABRUZZO                         2492848.0\n",
      "BASILICATA                      1117526.0\n",
      "CALABRIA                        3750240.0\n",
      "CAMPANIA                       11225028.0\n",
      "EMILIA-ROMAGNA                  7822810.0\n",
      "FRIULI-VENEZIA GIULIA           2238450.0\n",
      "LAZIO                          10344314.0\n",
      "LIGURIA                         2889902.0\n",
      "LOMBARDIA                      17632118.0\n",
      "MARCHE                          2813336.0\n",
      "MOLISE                           605736.0\n",
      "PIEMONTE                        7993334.0\n",
      "PUGLIA                          7937012.0\n",
      "SARDEGNA                        3221460.0\n",
      "SICILIA                         9763806.0\n",
      "TOSCANA                         6726638.0\n",
      "TRENTINO-ALTO ADIGE/SÜDTIROL    1911494.0\n",
      "UMBRIA                          1588318.0\n",
      "VALLE D'AOSTA/VALLÉE D'AOSTE     237822.0\n",
      "VENETO                          8805310.0\n",
      "                                                      Totale posti letto\n",
      "Regione                                                                 \n",
      "ABRUZZO                8583876747259583575552545445403404040437328313...\n",
      "BASILICATA             8586835651484840439124161616161391221212121211...\n",
      "CALABRIA               9888879777670755555425450504944854544444440404...\n",
      "CAMPANIA               9999969591909090998998868608358280808757269686...\n",
      "EMILIA ROMAGNA         9999989659695949189878786858088787647675737370...\n",
      "FRIULI VENEZIA GIULIA  9682882814808666642926262522204219518918817917...\n",
      "LAZIO                  9898969509595818080791777675716946969686767676...\n",
      "LIGURIA                8188746967635675655555034924524004043853253213...\n",
      "LOMBARDIA              9997697396959595949393919190989889898888888778...\n",
      "MARCHE                 9998908878397874161659850548948454544424040439...\n",
      "MOLISE                             9654404039318242220920020201961414116\n",
      "PIEMONTE               9998989695909099878383828028076757372727170707...\n",
      "PROV. AUTON. BOLZANO   9787487595155548444234325242321204202201918181...\n",
      "PROV. AUTON. TRENTO    8374727176562665950453027920153151351211210610210\n",
      "PUGLIA                 9898979695839877769767575747370706564630602666...\n",
      "SARDEGNA               9737696462606665605125150549484442414040404383...\n",
      "SICILIA                9996959494909098968988888887858585858418088888...\n",
      "TOSCANA                9998969594999888480887975728706967666666656563...\n",
      "UMBRIA                 7467271765950150443130303032932352212151461401...\n",
      "VALLE D`AOSTA                                                61412171512\n",
      "VENETO                 9897959389190909098918981818757572727070686866...\n"
     ]
    }
   ],
   "source": [
    "srtpop = pop_sumnsrt.sort_values('Regione')\n",
    "srtpl = summedAndSorted.sort_values('Regione')\n",
    "print(srtpop)\n",
    "print(srtpl)"
   ]
  },
  {
   "cell_type": "markdown",
   "id": "e2b13256-7415-49e3-91e4-9f7b3f070855",
   "metadata": {},
   "source": [
    "Notiamo un'inconsistenza nei due dataframe: le province di Bolzano e Trento sono considerate come due entità semparate; mentre nell'altro sono entrambe condenzate in Trentino Alto Adege, Emilia Romagna ed Emilia-Romagna, ecc.. Risolviamo:"
   ]
  },
  {
   "cell_type": "code",
   "execution_count": 7,
   "id": "6f35a4bb-e987-4d38-9c8e-d6e90923166e",
   "metadata": {
    "tags": []
   },
   "outputs": [
    {
     "name": "stdout",
     "output_type": "stream",
     "text": [
      "                                                             Totale posti letto\n",
      "Regione                                                                        \n",
      "ABRUZZO                       8583876747259583575552545445403404040437328313...\n",
      "BASILICATA                    8586835651484840439124161616161391221212121211...\n",
      "CALABRIA                      9888879777670755555425450504944854544444440404...\n",
      "CAMPANIA                      9999969591909090998998868608358280808757269686...\n",
      "LAZIO                         9898969509595818080791777675716946969686767676...\n",
      "LIGURIA                       8188746967635675655555034924524004043853253213...\n",
      "LOMBARDIA                     9997697396959595949393919190989889898888888778...\n",
      "MARCHE                        9998908878397874161659850548948454544424040439...\n",
      "MOLISE                                    9654404039318242220920020201961414116\n",
      "PIEMONTE                      9998989695909099878383828028076757372727170707...\n",
      "PUGLIA                        9898979695839877769767575747370706564630602666...\n",
      "SARDEGNA                      9737696462606665605125150549484442414040404383...\n",
      "SICILIA                       9996959494909098968988888887858585858418088888...\n",
      "TOSCANA                       9998969594999888480887975728706967666666656563...\n",
      "UMBRIA                        7467271765950150443130303032932352212151461401...\n",
      "VENETO                        9897959389190909098918981818757572727070686866...\n",
      "TRENTINO-ALTO ADIGE/SÜDTIROL                                               4238\n",
      "EMILIA-ROMAGNA                                                            18876\n",
      "FRIULI-VENEZIA GIULIA                                                      5028\n",
      "VALLE D'AOSTA/VALLÉE D'AOSTE                                                517\n",
      "                              Popolazione\n",
      "Regione                                  \n",
      "ABRUZZO                         2492848.0\n",
      "BASILICATA                      1117526.0\n",
      "CALABRIA                        3750240.0\n",
      "CAMPANIA                       11225028.0\n",
      "EMILIA-ROMAGNA                  7822810.0\n",
      "FRIULI-VENEZIA GIULIA           2238450.0\n",
      "LAZIO                          10344314.0\n",
      "LIGURIA                         2889902.0\n",
      "LOMBARDIA                      17632118.0\n",
      "MARCHE                          2813336.0\n",
      "MOLISE                           605736.0\n",
      "PIEMONTE                        7993334.0\n",
      "PUGLIA                          7937012.0\n",
      "SARDEGNA                        3221460.0\n",
      "SICILIA                         9763806.0\n",
      "TOSCANA                         6726638.0\n",
      "TRENTINO-ALTO ADIGE/SÜDTIROL    1911494.0\n",
      "UMBRIA                          1588318.0\n",
      "VALLE D'AOSTA/VALLÉE D'AOSTE     237822.0\n",
      "VENETO                          8805310.0\n"
     ]
    }
   ],
   "source": [
    "srtpl.loc['TRENTINO-ALTO ADIGE/SÜDTIROL'] = 2106+2132\n",
    "srtpl.loc['EMILIA-ROMAGNA'] = 18876\n",
    "srtpl.loc['FRIULI-VENEZIA GIULIA'] = 5028\n",
    "srtpl.loc[\"VALLE D'AOSTA/VALLÉE D'AOSTE\"] = 517\n",
    "srtpl = srtpl.drop('PROV. AUTON. BOLZANO')\n",
    "srtpl = srtpl.drop('PROV. AUTON. TRENTO')\n",
    "srtpl = srtpl.drop('EMILIA ROMAGNA')\n",
    "srtpl = srtpl.drop(\"VALLE D`AOSTA\")\n",
    "srtpl = srtpl.drop('FRIULI VENEZIA GIULIA')\n",
    "srtpl.sort_values('Regione')\n",
    "srtpop.sort_values('Regione')\n",
    "print(srtpl)\n",
    "print(srtpop)"
   ]
  },
  {
   "cell_type": "markdown",
   "id": "b607a9fa-4745-4c6f-9a3f-d139e202c637",
   "metadata": {},
   "source": [
    "Procediamo con l'effettuare un rapporto posti letto/cittadini"
   ]
  },
  {
   "cell_type": "code",
   "execution_count": 8,
   "id": "b2362267-fa13-467f-96d8-df37d71f4de4",
   "metadata": {
    "tags": []
   },
   "outputs": [
    {
     "data": {
      "text/html": [
       "<div>\n",
       "<style scoped>\n",
       "    .dataframe tbody tr th:only-of-type {\n",
       "        vertical-align: middle;\n",
       "    }\n",
       "\n",
       "    .dataframe tbody tr th {\n",
       "        vertical-align: top;\n",
       "    }\n",
       "\n",
       "    .dataframe thead th {\n",
       "        text-align: right;\n",
       "    }\n",
       "</style>\n",
       "<table border=\"1\" class=\"dataframe\">\n",
       "  <thead>\n",
       "    <tr style=\"text-align: right;\">\n",
       "      <th></th>\n",
       "      <th>Totale posti letto</th>\n",
       "      <th>Popolazione</th>\n",
       "    </tr>\n",
       "    <tr>\n",
       "      <th>Regione</th>\n",
       "      <th></th>\n",
       "      <th></th>\n",
       "    </tr>\n",
       "  </thead>\n",
       "  <tbody>\n",
       "    <tr>\n",
       "      <th>ABRUZZO</th>\n",
       "      <td>8583876747259583575552545445403404040437328313...</td>\n",
       "      <td>2492848.0</td>\n",
       "    </tr>\n",
       "    <tr>\n",
       "      <th>BASILICATA</th>\n",
       "      <td>8586835651484840439124161616161391221212121211...</td>\n",
       "      <td>1117526.0</td>\n",
       "    </tr>\n",
       "    <tr>\n",
       "      <th>CALABRIA</th>\n",
       "      <td>9888879777670755555425450504944854544444440404...</td>\n",
       "      <td>3750240.0</td>\n",
       "    </tr>\n",
       "    <tr>\n",
       "      <th>CAMPANIA</th>\n",
       "      <td>9999969591909090998998868608358280808757269686...</td>\n",
       "      <td>11225028.0</td>\n",
       "    </tr>\n",
       "    <tr>\n",
       "      <th>LAZIO</th>\n",
       "      <td>9898969509595818080791777675716946969686767676...</td>\n",
       "      <td>10344314.0</td>\n",
       "    </tr>\n",
       "    <tr>\n",
       "      <th>LIGURIA</th>\n",
       "      <td>8188746967635675655555034924524004043853253213...</td>\n",
       "      <td>2889902.0</td>\n",
       "    </tr>\n",
       "    <tr>\n",
       "      <th>LOMBARDIA</th>\n",
       "      <td>9997697396959595949393919190989889898888888778...</td>\n",
       "      <td>17632118.0</td>\n",
       "    </tr>\n",
       "    <tr>\n",
       "      <th>MARCHE</th>\n",
       "      <td>9998908878397874161659850548948454544424040439...</td>\n",
       "      <td>2813336.0</td>\n",
       "    </tr>\n",
       "    <tr>\n",
       "      <th>MOLISE</th>\n",
       "      <td>9654404039318242220920020201961414116</td>\n",
       "      <td>605736.0</td>\n",
       "    </tr>\n",
       "    <tr>\n",
       "      <th>PIEMONTE</th>\n",
       "      <td>9998989695909099878383828028076757372727170707...</td>\n",
       "      <td>7993334.0</td>\n",
       "    </tr>\n",
       "    <tr>\n",
       "      <th>PUGLIA</th>\n",
       "      <td>9898979695839877769767575747370706564630602666...</td>\n",
       "      <td>7937012.0</td>\n",
       "    </tr>\n",
       "    <tr>\n",
       "      <th>SARDEGNA</th>\n",
       "      <td>9737696462606665605125150549484442414040404383...</td>\n",
       "      <td>3221460.0</td>\n",
       "    </tr>\n",
       "    <tr>\n",
       "      <th>SICILIA</th>\n",
       "      <td>9996959494909098968988888887858585858418088888...</td>\n",
       "      <td>9763806.0</td>\n",
       "    </tr>\n",
       "    <tr>\n",
       "      <th>TOSCANA</th>\n",
       "      <td>9998969594999888480887975728706967666666656563...</td>\n",
       "      <td>6726638.0</td>\n",
       "    </tr>\n",
       "    <tr>\n",
       "      <th>UMBRIA</th>\n",
       "      <td>7467271765950150443130303032932352212151461401...</td>\n",
       "      <td>1588318.0</td>\n",
       "    </tr>\n",
       "    <tr>\n",
       "      <th>VENETO</th>\n",
       "      <td>9897959389190909098918981818757572727070686866...</td>\n",
       "      <td>8805310.0</td>\n",
       "    </tr>\n",
       "    <tr>\n",
       "      <th>TRENTINO-ALTO ADIGE/SÜDTIROL</th>\n",
       "      <td>4238</td>\n",
       "      <td>1911494.0</td>\n",
       "    </tr>\n",
       "    <tr>\n",
       "      <th>EMILIA-ROMAGNA</th>\n",
       "      <td>18876</td>\n",
       "      <td>7822810.0</td>\n",
       "    </tr>\n",
       "    <tr>\n",
       "      <th>FRIULI-VENEZIA GIULIA</th>\n",
       "      <td>5028</td>\n",
       "      <td>2238450.0</td>\n",
       "    </tr>\n",
       "    <tr>\n",
       "      <th>VALLE D'AOSTA/VALLÉE D'AOSTE</th>\n",
       "      <td>517</td>\n",
       "      <td>237822.0</td>\n",
       "    </tr>\n",
       "  </tbody>\n",
       "</table>\n",
       "</div>"
      ],
      "text/plain": [
       "                                                             Totale posti letto  \\\n",
       "Regione                                                                           \n",
       "ABRUZZO                       8583876747259583575552545445403404040437328313...   \n",
       "BASILICATA                    8586835651484840439124161616161391221212121211...   \n",
       "CALABRIA                      9888879777670755555425450504944854544444440404...   \n",
       "CAMPANIA                      9999969591909090998998868608358280808757269686...   \n",
       "LAZIO                         9898969509595818080791777675716946969686767676...   \n",
       "LIGURIA                       8188746967635675655555034924524004043853253213...   \n",
       "LOMBARDIA                     9997697396959595949393919190989889898888888778...   \n",
       "MARCHE                        9998908878397874161659850548948454544424040439...   \n",
       "MOLISE                                    9654404039318242220920020201961414116   \n",
       "PIEMONTE                      9998989695909099878383828028076757372727170707...   \n",
       "PUGLIA                        9898979695839877769767575747370706564630602666...   \n",
       "SARDEGNA                      9737696462606665605125150549484442414040404383...   \n",
       "SICILIA                       9996959494909098968988888887858585858418088888...   \n",
       "TOSCANA                       9998969594999888480887975728706967666666656563...   \n",
       "UMBRIA                        7467271765950150443130303032932352212151461401...   \n",
       "VENETO                        9897959389190909098918981818757572727070686866...   \n",
       "TRENTINO-ALTO ADIGE/SÜDTIROL                                               4238   \n",
       "EMILIA-ROMAGNA                                                            18876   \n",
       "FRIULI-VENEZIA GIULIA                                                      5028   \n",
       "VALLE D'AOSTA/VALLÉE D'AOSTE                                                517   \n",
       "\n",
       "                              Popolazione  \n",
       "Regione                                    \n",
       "ABRUZZO                         2492848.0  \n",
       "BASILICATA                      1117526.0  \n",
       "CALABRIA                        3750240.0  \n",
       "CAMPANIA                       11225028.0  \n",
       "LAZIO                          10344314.0  \n",
       "LIGURIA                         2889902.0  \n",
       "LOMBARDIA                      17632118.0  \n",
       "MARCHE                          2813336.0  \n",
       "MOLISE                           605736.0  \n",
       "PIEMONTE                        7993334.0  \n",
       "PUGLIA                          7937012.0  \n",
       "SARDEGNA                        3221460.0  \n",
       "SICILIA                         9763806.0  \n",
       "TOSCANA                         6726638.0  \n",
       "UMBRIA                          1588318.0  \n",
       "VENETO                          8805310.0  \n",
       "TRENTINO-ALTO ADIGE/SÜDTIROL    1911494.0  \n",
       "EMILIA-ROMAGNA                  7822810.0  \n",
       "FRIULI-VENEZIA GIULIA           2238450.0  \n",
       "VALLE D'AOSTA/VALLÉE D'AOSTE     237822.0  "
      ]
     },
     "execution_count": 8,
     "metadata": {},
     "output_type": "execute_result"
    }
   ],
   "source": [
    "frame = [srtpl, srtpop]\n",
    "df_join = srtpl.join(srtpop)\n",
    "df_join"
   ]
  },
  {
   "cell_type": "markdown",
   "id": "37bd5470-db97-4ae7-ab1c-50df6acf8682",
   "metadata": {},
   "source": [
    "Eseguiamo infine un rapporto posti letto/popolazione e conseguente rappresentazione grafica:"
   ]
  },
  {
   "cell_type": "code",
   "execution_count": 9,
   "id": "d834403a-0c23-475f-b951-89d5a8612c60",
   "metadata": {
    "tags": []
   },
   "outputs": [
    {
     "ename": "TypeError",
     "evalue": "unsupported operand type(s) for /: 'str' and 'float'",
     "output_type": "error",
     "traceback": [
      "\u001b[1;31m---------------------------------------------------------------------------\u001b[0m",
      "\u001b[1;31mTypeError\u001b[0m                                 Traceback (most recent call last)",
      "File \u001b[1;32m~\\AppData\\Local\\Programs\\Python\\Python311\\Lib\\site-packages\\pandas\\core\\ops\\array_ops.py:165\u001b[0m, in \u001b[0;36m_na_arithmetic_op\u001b[1;34m(left, right, op, is_cmp)\u001b[0m\n\u001b[0;32m    164\u001b[0m \u001b[38;5;28;01mtry\u001b[39;00m:\n\u001b[1;32m--> 165\u001b[0m     result \u001b[38;5;241m=\u001b[39m \u001b[43mfunc\u001b[49m\u001b[43m(\u001b[49m\u001b[43mleft\u001b[49m\u001b[43m,\u001b[49m\u001b[43m \u001b[49m\u001b[43mright\u001b[49m\u001b[43m)\u001b[49m\n\u001b[0;32m    166\u001b[0m \u001b[38;5;28;01mexcept\u001b[39;00m \u001b[38;5;167;01mTypeError\u001b[39;00m:\n",
      "File \u001b[1;32m~\\AppData\\Local\\Programs\\Python\\Python311\\Lib\\site-packages\\pandas\\core\\computation\\expressions.py:241\u001b[0m, in \u001b[0;36mevaluate\u001b[1;34m(op, a, b, use_numexpr)\u001b[0m\n\u001b[0;32m    239\u001b[0m     \u001b[38;5;28;01mif\u001b[39;00m use_numexpr:\n\u001b[0;32m    240\u001b[0m         \u001b[38;5;66;03m# error: \"None\" not callable\u001b[39;00m\n\u001b[1;32m--> 241\u001b[0m         \u001b[38;5;28;01mreturn\u001b[39;00m \u001b[43m_evaluate\u001b[49m\u001b[43m(\u001b[49m\u001b[43mop\u001b[49m\u001b[43m,\u001b[49m\u001b[43m \u001b[49m\u001b[43mop_str\u001b[49m\u001b[43m,\u001b[49m\u001b[43m \u001b[49m\u001b[43ma\u001b[49m\u001b[43m,\u001b[49m\u001b[43m \u001b[49m\u001b[43mb\u001b[49m\u001b[43m)\u001b[49m  \u001b[38;5;66;03m# type: ignore[misc]\u001b[39;00m\n\u001b[0;32m    242\u001b[0m \u001b[38;5;28;01mreturn\u001b[39;00m _evaluate_standard(op, op_str, a, b)\n",
      "File \u001b[1;32m~\\AppData\\Local\\Programs\\Python\\Python311\\Lib\\site-packages\\pandas\\core\\computation\\expressions.py:70\u001b[0m, in \u001b[0;36m_evaluate_standard\u001b[1;34m(op, op_str, a, b)\u001b[0m\n\u001b[0;32m     69\u001b[0m     _store_test_result(\u001b[38;5;28;01mFalse\u001b[39;00m)\n\u001b[1;32m---> 70\u001b[0m \u001b[38;5;28;01mreturn\u001b[39;00m \u001b[43mop\u001b[49m\u001b[43m(\u001b[49m\u001b[43ma\u001b[49m\u001b[43m,\u001b[49m\u001b[43m \u001b[49m\u001b[43mb\u001b[49m\u001b[43m)\u001b[49m\n",
      "\u001b[1;31mTypeError\u001b[0m: unsupported operand type(s) for /: 'str' and 'float'",
      "\nDuring handling of the above exception, another exception occurred:\n",
      "\u001b[1;31mTypeError\u001b[0m                                 Traceback (most recent call last)",
      "Cell \u001b[1;32mIn[9], line 2\u001b[0m\n\u001b[0;32m      1\u001b[0m ratio \u001b[38;5;241m=\u001b[39m pd\u001b[38;5;241m.\u001b[39mDataFrame(df_join)\n\u001b[1;32m----> 2\u001b[0m ratio[\u001b[38;5;124m'\u001b[39m\u001b[38;5;124mRapporto\u001b[39m\u001b[38;5;124m'\u001b[39m] \u001b[38;5;241m=\u001b[39m \u001b[43mdf_join\u001b[49m\u001b[43m[\u001b[49m\u001b[38;5;124;43m'\u001b[39;49m\u001b[38;5;124;43mTotale posti letto\u001b[39;49m\u001b[38;5;124;43m'\u001b[39;49m\u001b[43m]\u001b[49m\u001b[38;5;241;43m/\u001b[39;49m\u001b[43mdf_join\u001b[49m\u001b[43m[\u001b[49m\u001b[38;5;124;43m'\u001b[39;49m\u001b[38;5;124;43mPopolazione\u001b[39;49m\u001b[38;5;124;43m'\u001b[39;49m\u001b[43m]\u001b[49m\n\u001b[0;32m      3\u001b[0m \u001b[38;5;28mprint\u001b[39m(ratio)\n\u001b[0;32m      4\u001b[0m ratio[\u001b[38;5;124m'\u001b[39m\u001b[38;5;124mRapporto\u001b[39m\u001b[38;5;124m'\u001b[39m]\u001b[38;5;241m.\u001b[39mplot\u001b[38;5;241m.\u001b[39mbarh()\n",
      "File \u001b[1;32m~\\AppData\\Local\\Programs\\Python\\Python311\\Lib\\site-packages\\pandas\\core\\ops\\common.py:72\u001b[0m, in \u001b[0;36m_unpack_zerodim_and_defer.<locals>.new_method\u001b[1;34m(self, other)\u001b[0m\n\u001b[0;32m     68\u001b[0m             \u001b[38;5;28;01mreturn\u001b[39;00m \u001b[38;5;28mNotImplemented\u001b[39m\n\u001b[0;32m     70\u001b[0m other \u001b[38;5;241m=\u001b[39m item_from_zerodim(other)\n\u001b[1;32m---> 72\u001b[0m \u001b[38;5;28;01mreturn\u001b[39;00m \u001b[43mmethod\u001b[49m\u001b[43m(\u001b[49m\u001b[38;5;28;43mself\u001b[39;49m\u001b[43m,\u001b[49m\u001b[43m \u001b[49m\u001b[43mother\u001b[49m\u001b[43m)\u001b[49m\n",
      "File \u001b[1;32m~\\AppData\\Local\\Programs\\Python\\Python311\\Lib\\site-packages\\pandas\\core\\arraylike.py:126\u001b[0m, in \u001b[0;36mOpsMixin.__truediv__\u001b[1;34m(self, other)\u001b[0m\n\u001b[0;32m    124\u001b[0m \u001b[38;5;129m@unpack_zerodim_and_defer\u001b[39m(\u001b[38;5;124m\"\u001b[39m\u001b[38;5;124m__truediv__\u001b[39m\u001b[38;5;124m\"\u001b[39m)\n\u001b[0;32m    125\u001b[0m \u001b[38;5;28;01mdef\u001b[39;00m \u001b[38;5;21m__truediv__\u001b[39m(\u001b[38;5;28mself\u001b[39m, other):\n\u001b[1;32m--> 126\u001b[0m     \u001b[38;5;28;01mreturn\u001b[39;00m \u001b[38;5;28;43mself\u001b[39;49m\u001b[38;5;241;43m.\u001b[39;49m\u001b[43m_arith_method\u001b[49m\u001b[43m(\u001b[49m\u001b[43mother\u001b[49m\u001b[43m,\u001b[49m\u001b[43m \u001b[49m\u001b[43moperator\u001b[49m\u001b[38;5;241;43m.\u001b[39;49m\u001b[43mtruediv\u001b[49m\u001b[43m)\u001b[49m\n",
      "File \u001b[1;32m~\\AppData\\Local\\Programs\\Python\\Python311\\Lib\\site-packages\\pandas\\core\\series.py:6259\u001b[0m, in \u001b[0;36mSeries._arith_method\u001b[1;34m(self, other, op)\u001b[0m\n\u001b[0;32m   6257\u001b[0m \u001b[38;5;28;01mdef\u001b[39;00m \u001b[38;5;21m_arith_method\u001b[39m(\u001b[38;5;28mself\u001b[39m, other, op):\n\u001b[0;32m   6258\u001b[0m     \u001b[38;5;28mself\u001b[39m, other \u001b[38;5;241m=\u001b[39m ops\u001b[38;5;241m.\u001b[39malign_method_SERIES(\u001b[38;5;28mself\u001b[39m, other)\n\u001b[1;32m-> 6259\u001b[0m     \u001b[38;5;28;01mreturn\u001b[39;00m \u001b[43mbase\u001b[49m\u001b[38;5;241;43m.\u001b[39;49m\u001b[43mIndexOpsMixin\u001b[49m\u001b[38;5;241;43m.\u001b[39;49m\u001b[43m_arith_method\u001b[49m\u001b[43m(\u001b[49m\u001b[38;5;28;43mself\u001b[39;49m\u001b[43m,\u001b[49m\u001b[43m \u001b[49m\u001b[43mother\u001b[49m\u001b[43m,\u001b[49m\u001b[43m \u001b[49m\u001b[43mop\u001b[49m\u001b[43m)\u001b[49m\n",
      "File \u001b[1;32m~\\AppData\\Local\\Programs\\Python\\Python311\\Lib\\site-packages\\pandas\\core\\base.py:1325\u001b[0m, in \u001b[0;36mIndexOpsMixin._arith_method\u001b[1;34m(self, other, op)\u001b[0m\n\u001b[0;32m   1322\u001b[0m rvalues \u001b[38;5;241m=\u001b[39m ensure_wrapped_if_datetimelike(rvalues)\n\u001b[0;32m   1324\u001b[0m \u001b[38;5;28;01mwith\u001b[39;00m np\u001b[38;5;241m.\u001b[39merrstate(\u001b[38;5;28mall\u001b[39m\u001b[38;5;241m=\u001b[39m\u001b[38;5;124m\"\u001b[39m\u001b[38;5;124mignore\u001b[39m\u001b[38;5;124m\"\u001b[39m):\n\u001b[1;32m-> 1325\u001b[0m     result \u001b[38;5;241m=\u001b[39m \u001b[43mops\u001b[49m\u001b[38;5;241;43m.\u001b[39;49m\u001b[43marithmetic_op\u001b[49m\u001b[43m(\u001b[49m\u001b[43mlvalues\u001b[49m\u001b[43m,\u001b[49m\u001b[43m \u001b[49m\u001b[43mrvalues\u001b[49m\u001b[43m,\u001b[49m\u001b[43m \u001b[49m\u001b[43mop\u001b[49m\u001b[43m)\u001b[49m\n\u001b[0;32m   1327\u001b[0m \u001b[38;5;28;01mreturn\u001b[39;00m \u001b[38;5;28mself\u001b[39m\u001b[38;5;241m.\u001b[39m_construct_result(result, name\u001b[38;5;241m=\u001b[39mres_name)\n",
      "File \u001b[1;32m~\\AppData\\Local\\Programs\\Python\\Python311\\Lib\\site-packages\\pandas\\core\\ops\\array_ops.py:226\u001b[0m, in \u001b[0;36marithmetic_op\u001b[1;34m(left, right, op)\u001b[0m\n\u001b[0;32m    222\u001b[0m     _bool_arith_check(op, left, right)\n\u001b[0;32m    224\u001b[0m     \u001b[38;5;66;03m# error: Argument 1 to \"_na_arithmetic_op\" has incompatible type\u001b[39;00m\n\u001b[0;32m    225\u001b[0m     \u001b[38;5;66;03m# \"Union[ExtensionArray, ndarray[Any, Any]]\"; expected \"ndarray[Any, Any]\"\u001b[39;00m\n\u001b[1;32m--> 226\u001b[0m     res_values \u001b[38;5;241m=\u001b[39m \u001b[43m_na_arithmetic_op\u001b[49m\u001b[43m(\u001b[49m\u001b[43mleft\u001b[49m\u001b[43m,\u001b[49m\u001b[43m \u001b[49m\u001b[43mright\u001b[49m\u001b[43m,\u001b[49m\u001b[43m \u001b[49m\u001b[43mop\u001b[49m\u001b[43m)\u001b[49m  \u001b[38;5;66;03m# type: ignore[arg-type]\u001b[39;00m\n\u001b[0;32m    228\u001b[0m \u001b[38;5;28;01mreturn\u001b[39;00m res_values\n",
      "File \u001b[1;32m~\\AppData\\Local\\Programs\\Python\\Python311\\Lib\\site-packages\\pandas\\core\\ops\\array_ops.py:172\u001b[0m, in \u001b[0;36m_na_arithmetic_op\u001b[1;34m(left, right, op, is_cmp)\u001b[0m\n\u001b[0;32m    166\u001b[0m \u001b[38;5;28;01mexcept\u001b[39;00m \u001b[38;5;167;01mTypeError\u001b[39;00m:\n\u001b[0;32m    167\u001b[0m     \u001b[38;5;28;01mif\u001b[39;00m \u001b[38;5;129;01mnot\u001b[39;00m is_cmp \u001b[38;5;129;01mand\u001b[39;00m (is_object_dtype(left\u001b[38;5;241m.\u001b[39mdtype) \u001b[38;5;129;01mor\u001b[39;00m is_object_dtype(right)):\n\u001b[0;32m    168\u001b[0m         \u001b[38;5;66;03m# For object dtype, fallback to a masked operation (only operating\u001b[39;00m\n\u001b[0;32m    169\u001b[0m         \u001b[38;5;66;03m#  on the non-missing values)\u001b[39;00m\n\u001b[0;32m    170\u001b[0m         \u001b[38;5;66;03m# Don't do this for comparisons, as that will handle complex numbers\u001b[39;00m\n\u001b[0;32m    171\u001b[0m         \u001b[38;5;66;03m#  incorrectly, see GH#32047\u001b[39;00m\n\u001b[1;32m--> 172\u001b[0m         result \u001b[38;5;241m=\u001b[39m \u001b[43m_masked_arith_op\u001b[49m\u001b[43m(\u001b[49m\u001b[43mleft\u001b[49m\u001b[43m,\u001b[49m\u001b[43m \u001b[49m\u001b[43mright\u001b[49m\u001b[43m,\u001b[49m\u001b[43m \u001b[49m\u001b[43mop\u001b[49m\u001b[43m)\u001b[49m\n\u001b[0;32m    173\u001b[0m     \u001b[38;5;28;01melse\u001b[39;00m:\n\u001b[0;32m    174\u001b[0m         \u001b[38;5;28;01mraise\u001b[39;00m\n",
      "File \u001b[1;32m~\\AppData\\Local\\Programs\\Python\\Python311\\Lib\\site-packages\\pandas\\core\\ops\\array_ops.py:110\u001b[0m, in \u001b[0;36m_masked_arith_op\u001b[1;34m(x, y, op)\u001b[0m\n\u001b[0;32m    108\u001b[0m     \u001b[38;5;66;03m# See GH#5284, GH#5035, GH#19448 for historical reference\u001b[39;00m\n\u001b[0;32m    109\u001b[0m     \u001b[38;5;28;01mif\u001b[39;00m mask\u001b[38;5;241m.\u001b[39many():\n\u001b[1;32m--> 110\u001b[0m         result[mask] \u001b[38;5;241m=\u001b[39m \u001b[43mop\u001b[49m\u001b[43m(\u001b[49m\u001b[43mxrav\u001b[49m\u001b[43m[\u001b[49m\u001b[43mmask\u001b[49m\u001b[43m]\u001b[49m\u001b[43m,\u001b[49m\u001b[43m \u001b[49m\u001b[43myrav\u001b[49m\u001b[43m[\u001b[49m\u001b[43mmask\u001b[49m\u001b[43m]\u001b[49m\u001b[43m)\u001b[49m\n\u001b[0;32m    112\u001b[0m \u001b[38;5;28;01melse\u001b[39;00m:\n\u001b[0;32m    113\u001b[0m     \u001b[38;5;28;01mif\u001b[39;00m \u001b[38;5;129;01mnot\u001b[39;00m is_scalar(y):\n",
      "\u001b[1;31mTypeError\u001b[0m: unsupported operand type(s) for /: 'str' and 'float'"
     ]
    }
   ],
   "source": [
    "ratio = pd.DataFrame(df_join)\n",
    "ratio['Rapporto'] = df_join['Totale posti letto']/df_join['Popolazione']\n",
    "print(ratio)\n",
    "ratio['Rapporto'].plot.barh()\n",
    "plt.show()"
   ]
  },
  {
   "cell_type": "code",
   "execution_count": null,
   "id": "9f36ca62-2686-4c21-8455-6282232a4cc9",
   "metadata": {},
   "outputs": [],
   "source": []
  }
 ],
 "metadata": {
  "kernelspec": {
   "display_name": "Python 3 (ipykernel)",
   "language": "python",
   "name": "python3"
  },
  "language_info": {
   "codemirror_mode": {
    "name": "ipython",
    "version": 3
   },
   "file_extension": ".py",
   "mimetype": "text/x-python",
   "name": "python",
   "nbconvert_exporter": "python",
   "pygments_lexer": "ipython3",
   "version": "3.11.2"
  }
 },
 "nbformat": 4,
 "nbformat_minor": 5
}
