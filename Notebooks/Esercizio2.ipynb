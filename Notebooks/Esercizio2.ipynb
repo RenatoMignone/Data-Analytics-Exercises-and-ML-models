{
 "cells": [
  {
   "cell_type": "code",
   "execution_count": 2,
   "id": "85305688-bd08-4ce6-a3af-55a3f9f9a786",
   "metadata": {
    "tags": []
   },
   "outputs": [],
   "source": [
    "import pandas as pd\n",
    "import matplotlib.pyplot as plt"
   ]
  },
  {
   "cell_type": "code",
   "execution_count": null,
   "id": "c19b712b-3d56-4391-821e-b3a576e9f085",
   "metadata": {
    "tags": []
   },
   "outputs": [
    {
     "data": {
      "text/plain": [
       "array(['PIEMONTE'], dtype=object)"
      ]
     },
     "execution_count": 7,
     "metadata": {},
     "output_type": "execute_result"
    }
   ],
   "source": [
    "csv = pd.read_csv(\"../Datasets/Datasets2/posti_letto_per_struttura_ospedaliera.csv\",encoding='latin-1')\n",
    "csv[\"Descrizione Regione\"].unique()"
   ]
  },
  {
   "cell_type": "code",
   "execution_count": 7,
   "id": "0d26c396-bf6a-48b5-867b-4a66d539339b",
   "metadata": {
    "tags": []
   },
   "outputs": [
    {
     "data": {
      "text/plain": [
       "Anno                                 int64\n",
       "Codice Regione                       int64\n",
       "Descrizione Regione                 object\n",
       "Codice Azienda                       int64\n",
       "Tipo Azienda                         int64\n",
       "Codice struttura                     int64\n",
       "Denominazione struttura             object\n",
       "Indirizzo                           object\n",
       "Codice Comune                        int64\n",
       "Comune                              object\n",
       "Sigla provincia                     object\n",
       "Codice tipo struttura              float64\n",
       "Descrizione tipo struttura          object\n",
       "Tipo di Disciplina                  object\n",
       "Posti letto degenza ordinaria        int64\n",
       "Posti letto degenza a pagamento      int64\n",
       "Posti letto Day Hospital             int64\n",
       "Posti letto Day Surgery              int64\n",
       "Totale posti letto                   int64\n",
       "dtype: object"
      ]
     },
     "execution_count": 7,
     "metadata": {},
     "output_type": "execute_result"
    }
   ],
   "source": [
    "csv.dtypes"
   ]
  },
  {
   "cell_type": "code",
   "execution_count": 8,
   "id": "e4a00f69-0375-467c-8aec-0a84544afd0e",
   "metadata": {
    "tags": []
   },
   "outputs": [],
   "source": [
    "csv = csv.convert_dtypes(convert_floating=True)"
   ]
  },
  {
   "cell_type": "code",
   "execution_count": 9,
   "id": "3ec732ac-c600-4b04-901c-9479bdee5955",
   "metadata": {
    "tags": []
   },
   "outputs": [],
   "source": [
    "csv2015 = csv[csv[\"Anno\"]==2015]"
   ]
  },
  {
   "cell_type": "code",
   "execution_count": 10,
   "id": "d87932e2-01f1-4de4-948c-c9a72493b494",
   "metadata": {
    "tags": []
   },
   "outputs": [],
   "source": [
    "letti2015 = csv2015['Totale posti letto']"
   ]
  },
  {
   "cell_type": "code",
   "execution_count": 12,
   "id": "88d571a8-cd48-4023-9cfe-6f6b2ad17582",
   "metadata": {
    "tags": []
   },
   "outputs": [
    {
     "data": {
      "text/plain": [
       "count          75.0\n",
       "mean     121.213333\n",
       "std      255.733301\n",
       "min             1.0\n",
       "25%            20.0\n",
       "50%            49.0\n",
       "75%           117.5\n",
       "max          2097.0\n",
       "Name: Totale posti letto, dtype: Float64"
      ]
     },
     "execution_count": 12,
     "metadata": {},
     "output_type": "execute_result"
    }
   ],
   "source": [
    "letti2015.describe()"
   ]
  },
  {
   "cell_type": "code",
   "execution_count": 32,
   "id": "34e67b41-f949-41b7-a0af-a2f5695cf2cd",
   "metadata": {
    "tags": []
   },
   "outputs": [
    {
     "data": {
      "image/png": "[encoded data removed]",
      "text/plain": [
       "<Figure size 640x480 with 1 Axes>"
      ]
     },
     "metadata": {},
     "output_type": "display_data"
    }
   ],
   "source": [
    "histogram = letti2015.hist(bins = 50)"
   ]
  }
 ],
 "metadata": {
  "kernelspec": {
   "display_name": "Python 3 (ipykernel)",
   "language": "python",
   "name": "python3"
  },
  "language_info": {
   "codemirror_mode": {
    "name": "ipython",
    "version": 3
   },
   "file_extension": ".py",
   "mimetype": "text/x-python",
   "name": "python",
   "nbconvert_exporter": "python",
   "pygments_lexer": "ipython3",
   "version": "3.11.2"
  }
 },
 "nbformat": 4,
 "nbformat_minor": 5
}
