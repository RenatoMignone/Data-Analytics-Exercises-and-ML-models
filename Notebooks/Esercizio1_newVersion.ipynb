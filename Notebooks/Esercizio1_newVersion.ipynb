{
 "cells": [
  {
   "cell_type": "code",
   "execution_count": 4,
   "id": "d95bf81d-8427-4b84-afde-adb75a87a57d",
   "metadata": {
    "tags": []
   },
   "outputs": [],
   "source": [
    "import pandas as pd\n",
    "import numpy as np\n",
    "import seaborn as sns"
   ]
  },
  {
   "cell_type": "code",
   "execution_count": null,
   "id": "238b83e8-248c-4751-981c-b8fe218a419c",
   "metadata": {
    "tags": []
   },
   "outputs": [
    {
     "data": {
      "text/html": [
       "<div>\n",
       "<style scoped>\n",
       "    .dataframe tbody tr th:only-of-type {\n",
       "        vertical-align: middle;\n",
       "    }\n",
       "\n",
       "    .dataframe tbody tr th {\n",
       "        vertical-align: top;\n",
       "    }\n",
       "\n",
       "    .dataframe thead th {\n",
       "        text-align: right;\n",
       "    }\n",
       "</style>\n",
       "<table border=\"1\" class=\"dataframe\">\n",
       "  <thead>\n",
       "    <tr style=\"text-align: right;\">\n",
       "      <th></th>\n",
       "      <th>Customer</th>\n",
       "      <th>SSN</th>\n",
       "      <th>Birthdate</th>\n",
       "      <th>Age</th>\n",
       "      <th>Region</th>\n",
       "      <th>CredCardUser</th>\n",
       "      <th>Income</th>\n",
       "      <th>Purchases</th>\n",
       "      <th>AmtSpent</th>\n",
       "    </tr>\n",
       "  </thead>\n",
       "  <tbody>\n",
       "    <tr>\n",
       "      <th>0</th>\n",
       "      <td>1</td>\n",
       "      <td>539-84-9599</td>\n",
       "      <td>1944-10-26</td>\n",
       "      <td>78</td>\n",
       "      <td>East</td>\n",
       "      <td>0</td>\n",
       "      <td>62900</td>\n",
       "      <td>4</td>\n",
       "      <td>2080</td>\n",
       "    </tr>\n",
       "    <tr>\n",
       "      <th>1</th>\n",
       "      <td>2</td>\n",
       "      <td>444-05-4079</td>\n",
       "      <td>1932-01-01</td>\n",
       "      <td>67</td>\n",
       "      <td>West</td>\n",
       "      <td>1</td>\n",
       "      <td>23300</td>\n",
       "      <td>0</td>\n",
       "      <td>0</td>\n",
       "    </tr>\n",
       "    <tr>\n",
       "      <th>2</th>\n",
       "      <td>3</td>\n",
       "      <td>418-18-5649</td>\n",
       "      <td>1973-08-17</td>\n",
       "      <td>25</td>\n",
       "      <td>East</td>\n",
       "      <td>1</td>\n",
       "      <td>48700</td>\n",
       "      <td>8</td>\n",
       "      <td>3990</td>\n",
       "    </tr>\n",
       "    <tr>\n",
       "      <th>3</th>\n",
       "      <td>4</td>\n",
       "      <td>065-63-3311</td>\n",
       "      <td>1947-08-02</td>\n",
       "      <td>51</td>\n",
       "      <td>West</td>\n",
       "      <td>1</td>\n",
       "      <td>137600</td>\n",
       "      <td>2</td>\n",
       "      <td>920</td>\n",
       "    </tr>\n",
       "    <tr>\n",
       "      <th>4</th>\n",
       "      <td>5</td>\n",
       "      <td>059-58-9566</td>\n",
       "      <td>1948-10-03</td>\n",
       "      <td>50</td>\n",
       "      <td>East</td>\n",
       "      <td>0</td>\n",
       "      <td>101400</td>\n",
       "      <td>2</td>\n",
       "      <td>1000</td>\n",
       "    </tr>\n",
       "    <tr>\n",
       "      <th>...</th>\n",
       "      <td>...</td>\n",
       "      <td>...</td>\n",
       "      <td>...</td>\n",
       "      <td>...</td>\n",
       "      <td>...</td>\n",
       "      <td>...</td>\n",
       "      <td>...</td>\n",
       "      <td>...</td>\n",
       "      <td>...</td>\n",
       "    </tr>\n",
       "    <tr>\n",
       "      <th>1495</th>\n",
       "      <td>1496</td>\n",
       "      <td>347-70-0762</td>\n",
       "      <td>1965-09-28</td>\n",
       "      <td>33</td>\n",
       "      <td>West</td>\n",
       "      <td>0</td>\n",
       "      <td>71800</td>\n",
       "      <td>2</td>\n",
       "      <td>970</td>\n",
       "    </tr>\n",
       "    <tr>\n",
       "      <th>1496</th>\n",
       "      <td>1497</td>\n",
       "      <td>638-19-2849</td>\n",
       "      <td>1930-07-31</td>\n",
       "      <td>68</td>\n",
       "      <td>South</td>\n",
       "      <td>0</td>\n",
       "      <td>121100</td>\n",
       "      <td>5</td>\n",
       "      <td>2540</td>\n",
       "    </tr>\n",
       "    <tr>\n",
       "      <th>1497</th>\n",
       "      <td>1498</td>\n",
       "      <td>670-57-4549</td>\n",
       "      <td>1954-07-21</td>\n",
       "      <td>44</td>\n",
       "      <td>North</td>\n",
       "      <td>1</td>\n",
       "      <td>64000</td>\n",
       "      <td>4</td>\n",
       "      <td>2160</td>\n",
       "    </tr>\n",
       "    <tr>\n",
       "      <th>1498</th>\n",
       "      <td>1499</td>\n",
       "      <td>166-84-2698</td>\n",
       "      <td>1966-10-30</td>\n",
       "      <td>32</td>\n",
       "      <td>South</td>\n",
       "      <td>0</td>\n",
       "      <td>91000</td>\n",
       "      <td>6</td>\n",
       "      <td>2910</td>\n",
       "    </tr>\n",
       "    <tr>\n",
       "      <th>1499</th>\n",
       "      <td>1500</td>\n",
       "      <td>366-03-5021</td>\n",
       "      <td>1934-09-23</td>\n",
       "      <td>64</td>\n",
       "      <td>South</td>\n",
       "      <td>0</td>\n",
       "      <td>121400</td>\n",
       "      <td>1</td>\n",
       "      <td>530</td>\n",
       "    </tr>\n",
       "  </tbody>\n",
       "</table>\n",
       "<p>1500 rows × 9 columns</p>\n",
       "</div>"
      ],
      "text/plain": [
       "      Customer          SSN  Birthdate  Age  Region  CredCardUser  Income  \\\n",
       "0            1  539-84-9599 1944-10-26   78    East             0   62900   \n",
       "1            2  444-05-4079 1932-01-01   67    West             1   23300   \n",
       "2            3  418-18-5649 1973-08-17   25    East             1   48700   \n",
       "3            4  065-63-3311 1947-08-02   51    West             1  137600   \n",
       "4            5  059-58-9566 1948-10-03   50    East             0  101400   \n",
       "...        ...          ...        ...  ...     ...           ...     ...   \n",
       "1495      1496  347-70-0762 1965-09-28   33    West             0   71800   \n",
       "1496      1497  638-19-2849 1930-07-31   68   South             0  121100   \n",
       "1497      1498  670-57-4549 1954-07-21   44   North             1   64000   \n",
       "1498      1499  166-84-2698 1966-10-30   32   South             0   91000   \n",
       "1499      1500  366-03-5021 1934-09-23   64   South             0  121400   \n",
       "\n",
       "      Purchases  AmtSpent  \n",
       "0             4      2080  \n",
       "1             0         0  \n",
       "2             8      3990  \n",
       "3             2       920  \n",
       "4             2      1000  \n",
       "...         ...       ...  \n",
       "1495          2       970  \n",
       "1496          5      2540  \n",
       "1497          4      2160  \n",
       "1498          6      2910  \n",
       "1499          1       530  \n",
       "\n",
       "[1500 rows x 9 columns]"
      ]
     },
     "execution_count": 5,
     "metadata": {},
     "output_type": "execute_result"
    }
   ],
   "source": [
    "df = pd.read_excel(\"../Datasets/Datasets1/DMnuovo.xlsx\")"
   ]
  },
  {
   "cell_type": "markdown",
   "id": "00edd5c4-89b9-4287-bb65-f0677c59f4c6",
   "metadata": {},
   "source": [
    "il nostro compito è andare a ripulire i dati presenti in questo dataframe."
   ]
  },
  {
   "cell_type": "code",
   "execution_count": 148,
   "id": "fe9f766a-705e-4446-819c-3c935e4b263f",
   "metadata": {
    "tags": []
   },
   "outputs": [
    {
     "data": {
      "text/html": [
       "<div>\n",
       "<style scoped>\n",
       "    .dataframe tbody tr th:only-of-type {\n",
       "        vertical-align: middle;\n",
       "    }\n",
       "\n",
       "    .dataframe tbody tr th {\n",
       "        vertical-align: top;\n",
       "    }\n",
       "\n",
       "    .dataframe thead th {\n",
       "        text-align: right;\n",
       "    }\n",
       "</style>\n",
       "<table border=\"1\" class=\"dataframe\">\n",
       "  <thead>\n",
       "    <tr style=\"text-align: right;\">\n",
       "      <th></th>\n",
       "      <th>Customer</th>\n",
       "      <th>SSN</th>\n",
       "      <th>Birthdate</th>\n",
       "      <th>Age</th>\n",
       "      <th>Region</th>\n",
       "      <th>CredCardUser</th>\n",
       "      <th>Income</th>\n",
       "      <th>Purchases</th>\n",
       "      <th>AmtSpent</th>\n",
       "    </tr>\n",
       "  </thead>\n",
       "  <tbody>\n",
       "    <tr>\n",
       "      <th>1327</th>\n",
       "      <td>1328</td>\n",
       "      <td>083-55-9161</td>\n",
       "      <td>1963-08-16</td>\n",
       "      <td>35</td>\n",
       "      <td>South</td>\n",
       "      <td>1</td>\n",
       "      <td>111000</td>\n",
       "      <td>2</td>\n",
       "      <td>1080</td>\n",
       "    </tr>\n",
       "    <tr>\n",
       "      <th>917</th>\n",
       "      <td>918</td>\n",
       "      <td>579-34-3592</td>\n",
       "      <td>1957-04-04</td>\n",
       "      <td>42</td>\n",
       "      <td>South</td>\n",
       "      <td>0</td>\n",
       "      <td>86000</td>\n",
       "      <td>6</td>\n",
       "      <td>2930</td>\n",
       "    </tr>\n",
       "    <tr>\n",
       "      <th>360</th>\n",
       "      <td>361</td>\n",
       "      <td>971-92-9025</td>\n",
       "      <td>1965-12-07</td>\n",
       "      <td>33</td>\n",
       "      <td>North</td>\n",
       "      <td>1</td>\n",
       "      <td>39900</td>\n",
       "      <td>2</td>\n",
       "      <td>1010</td>\n",
       "    </tr>\n",
       "    <tr>\n",
       "      <th>1389</th>\n",
       "      <td>1390</td>\n",
       "      <td>767-45-1352</td>\n",
       "      <td>1950-09-23</td>\n",
       "      <td>48</td>\n",
       "      <td>North</td>\n",
       "      <td>0</td>\n",
       "      <td>30000</td>\n",
       "      <td>2</td>\n",
       "      <td>870</td>\n",
       "    </tr>\n",
       "    <tr>\n",
       "      <th>788</th>\n",
       "      <td>789</td>\n",
       "      <td>581-79-2983</td>\n",
       "      <td>1938-09-29</td>\n",
       "      <td>60</td>\n",
       "      <td>East</td>\n",
       "      <td>0</td>\n",
       "      <td>114500</td>\n",
       "      <td>4</td>\n",
       "      <td>1910</td>\n",
       "    </tr>\n",
       "    <tr>\n",
       "      <th>127</th>\n",
       "      <td>128</td>\n",
       "      <td>214-25-9429</td>\n",
       "      <td>1941-07-03</td>\n",
       "      <td>57</td>\n",
       "      <td>West</td>\n",
       "      <td>1</td>\n",
       "      <td>62300</td>\n",
       "      <td>0</td>\n",
       "      <td>0</td>\n",
       "    </tr>\n",
       "    <tr>\n",
       "      <th>995</th>\n",
       "      <td>996</td>\n",
       "      <td>680-48-7491</td>\n",
       "      <td>1965-01-19</td>\n",
       "      <td>34</td>\n",
       "      <td>North</td>\n",
       "      <td>1</td>\n",
       "      <td>109600</td>\n",
       "      <td>6</td>\n",
       "      <td>2800</td>\n",
       "    </tr>\n",
       "    <tr>\n",
       "      <th>1089</th>\n",
       "      <td>1090</td>\n",
       "      <td>623-61-4442</td>\n",
       "      <td>1930-09-12</td>\n",
       "      <td>68</td>\n",
       "      <td>South</td>\n",
       "      <td>1</td>\n",
       "      <td>83600</td>\n",
       "      <td>1</td>\n",
       "      <td>380</td>\n",
       "    </tr>\n",
       "    <tr>\n",
       "      <th>195</th>\n",
       "      <td>196</td>\n",
       "      <td>181-87-5635</td>\n",
       "      <td>1965-12-17</td>\n",
       "      <td>33</td>\n",
       "      <td>East</td>\n",
       "      <td>1</td>\n",
       "      <td>125300</td>\n",
       "      <td>1</td>\n",
       "      <td>500</td>\n",
       "    </tr>\n",
       "    <tr>\n",
       "      <th>532</th>\n",
       "      <td>533</td>\n",
       "      <td>362-89-4824</td>\n",
       "      <td>1947-10-09</td>\n",
       "      <td>51</td>\n",
       "      <td>South</td>\n",
       "      <td>0</td>\n",
       "      <td>45900</td>\n",
       "      <td>6</td>\n",
       "      <td>3020</td>\n",
       "    </tr>\n",
       "  </tbody>\n",
       "</table>\n",
       "</div>"
      ],
      "text/plain": [
       "      Customer          SSN  Birthdate  Age Region  CredCardUser  Income  \\\n",
       "1327      1328  083-55-9161 1963-08-16   35  South             1  111000   \n",
       "917        918  579-34-3592 1957-04-04   42  South             0   86000   \n",
       "360        361  971-92-9025 1965-12-07   33  North             1   39900   \n",
       "1389      1390  767-45-1352 1950-09-23   48  North             0   30000   \n",
       "788        789  581-79-2983 1938-09-29   60   East             0  114500   \n",
       "127        128  214-25-9429 1941-07-03   57   West             1   62300   \n",
       "995        996  680-48-7491 1965-01-19   34  North             1  109600   \n",
       "1089      1090  623-61-4442 1930-09-12   68  South             1   83600   \n",
       "195        196  181-87-5635 1965-12-17   33   East             1  125300   \n",
       "532        533  362-89-4824 1947-10-09   51  South             0   45900   \n",
       "\n",
       "      Purchases  AmtSpent  \n",
       "1327          2      1080  \n",
       "917           6      2930  \n",
       "360           2      1010  \n",
       "1389          2       870  \n",
       "788           4      1910  \n",
       "127           0         0  \n",
       "995           6      2800  \n",
       "1089          1       380  \n",
       "195           1       500  \n",
       "532           6      3020  "
      ]
     },
     "execution_count": 148,
     "metadata": {},
     "output_type": "execute_result"
    }
   ],
   "source": [
    "df.sample(10)"
   ]
  },
  {
   "cell_type": "code",
   "execution_count": 149,
   "id": "5775b0df-2685-47b3-8b23-b85fa8902084",
   "metadata": {
    "tags": []
   },
   "outputs": [
    {
     "data": {
      "text/plain": [
       "array([0, 1], dtype=int64)"
      ]
     },
     "execution_count": 149,
     "metadata": {},
     "output_type": "execute_result"
    }
   ],
   "source": [
    "df[\"CredCardUser\"].unique()"
   ]
  },
  {
   "cell_type": "markdown",
   "id": "86a6a0bd-651d-4499-8ac5-b4afe8c6f13f",
   "metadata": {},
   "source": [
    "in questo modo abbiamo verificato che gli unici valori presenti nel dataframe sotto la colonna dei credit card user siano 0 e 1, e che non vi siano valori diversi."
   ]
  },
  {
   "cell_type": "markdown",
   "id": "baaeaef4-b2c9-4407-9e8d-95875f214a4f",
   "metadata": {},
   "source": [
    "Ora vogliamo andare a verificare che tutte le Region abbiano valori esatti e soprattutto che i valori siano solo 4"
   ]
  },
  {
   "cell_type": "code",
   "execution_count": 150,
   "id": "82b0bdb7-d629-464e-9436-1936ac4e9089",
   "metadata": {
    "tags": []
   },
   "outputs": [
    {
     "name": "stdout",
     "output_type": "stream",
     "text": [
      "Vi sono presenti dei valori inesatti nel nostro dataframe\n",
      "[' East' 'West' 'East' 'South' 'North' ' North' ' West' ' South']\n"
     ]
    }
   ],
   "source": [
    "if len(df[\"Region\"].unique()) > 4:\n",
    "    print(\"Vi sono presenti dei valori inesatti nel nostro dataframe\")\n",
    "    print(df[\"Region\"].unique())\n",
    "\n",
    "else:\n",
    "    print(\"Il numero di regioni è corretto\")"
   ]
  },
  {
   "cell_type": "markdown",
   "id": "e9e1f660-a97b-4d31-aa98-685f313d6a94",
   "metadata": {},
   "source": [
    "vediamo che nelle regioni ci sono degli spazi che non rendono i campi esattamente uguali tra loro."
   ]
  },
  {
   "cell_type": "code",
   "execution_count": 151,
   "id": "7c86d55c-74c6-441f-badd-064250d79483",
   "metadata": {
    "tags": []
   },
   "outputs": [],
   "source": [
    "df[\"Region\"] = df[\"Region\"].str.strip()"
   ]
  },
  {
   "cell_type": "code",
   "execution_count": 152,
   "id": "ff2690d6-53f4-44ac-a97c-6b89e783ee9d",
   "metadata": {
    "tags": []
   },
   "outputs": [
    {
     "data": {
      "text/plain": [
       "array(['East', 'West', 'South', 'North'], dtype=object)"
      ]
     },
     "execution_count": 152,
     "metadata": {},
     "output_type": "execute_result"
    }
   ],
   "source": [
    "df[\"Region\"].unique()"
   ]
  },
  {
   "cell_type": "markdown",
   "id": "9deb6621-d92f-40c7-a3f9-1f599abc8bd8",
   "metadata": {},
   "source": [
    "tramite un semplice comando abbiamo eliminato ogni singolo spazio presente negli elementi della colonna Region rendendoli in questo modo univoci"
   ]
  },
  {
   "cell_type": "code",
   "execution_count": 153,
   "id": "9335d16c-988e-4532-9fd7-6612ff5ce556",
   "metadata": {
    "tags": []
   },
   "outputs": [
    {
     "data": {
      "text/plain": [
       "Customer        0\n",
       "SSN             0\n",
       "Birthdate       0\n",
       "Age             0\n",
       "Region          0\n",
       "CredCardUser    0\n",
       "Income          0\n",
       "Purchases       0\n",
       "AmtSpent        0\n",
       "dtype: int64"
      ]
     },
     "execution_count": 153,
     "metadata": {},
     "output_type": "execute_result"
    }
   ],
   "source": [
    "df.isna().sum()"
   ]
  },
  {
   "cell_type": "markdown",
   "id": "d529e07e-4344-4f2e-8855-cf906324b0d7",
   "metadata": {},
   "source": [
    "<div>con questa operazione verifichiamo che non ci siano valori null all'interno del nostro dataframe</div>"
   ]
  },
  {
   "cell_type": "code",
   "execution_count": 154,
   "id": "3752a08f-4566-4618-b811-f8546aef4563",
   "metadata": {
    "tags": []
   },
   "outputs": [
    {
     "data": {
      "text/plain": [
       "<Axes: >"
      ]
     },
     "execution_count": 154,
     "metadata": {},
     "output_type": "execute_result"
    },
    {
     "data": {
      "image/png": "[encoded data removed]",
      "text/plain": [
       "<Figure size 640x480 with 1 Axes>"
      ]
     },
     "metadata": {},
     "output_type": "display_data"
    }
   ],
   "source": [
    "df[\"Age\"].hist()"
   ]
  },
  {
   "cell_type": "markdown",
   "id": "eb88a0ec-d063-40ba-abdf-d08d10194757",
   "metadata": {},
   "source": [
    "tramite la generazione di un istogramma vediamo che alcuni degli elementi presenti nella sezione dell'età sono minori di zero, andando quindi a generare dei dati inconsistenti e insensati, andiamo a gestire questo problema."
   ]
  },
  {
   "cell_type": "code",
   "execution_count": 155,
   "id": "7ca55052-e37f-4a50-bc73-bc5b88899a19",
   "metadata": {
    "tags": []
   },
   "outputs": [],
   "source": [
    "for i in df[\"Age\"]:\n",
    "    if i < 0:\n",
    "        f = i*-1\n",
    "        df[\"Age\"] = df[\"Age\"].replace(i,f)"
   ]
  },
  {
   "cell_type": "markdown",
   "id": "87c7ed37-ef28-4348-a145-9c235ec4c892",
   "metadata": {
    "tags": []
   },
   "source": [
    "con un semplice ciclo che va a prendere ogni valore del dataframe, vado a rimpiazzare l'attuale valore negativo, con lo stesso valore cambiato di segno."
   ]
  },
  {
   "cell_type": "code",
   "execution_count": 156,
   "id": "ca1d6777-ce02-48a5-97ab-bc23341dc706",
   "metadata": {
    "tags": []
   },
   "outputs": [
    {
     "data": {
      "text/plain": [
       "<Axes: >"
      ]
     },
     "execution_count": 156,
     "metadata": {},
     "output_type": "execute_result"
    },
    {
     "data": {
      "image/png": "[encoded data removed]",
      "text/plain": [
       "<Figure size 640x480 with 1 Axes>"
      ]
     },
     "metadata": {},
     "output_type": "display_data"
    }
   ],
   "source": [
    "df[\"Age\"].hist()"
   ]
  },
  {
   "cell_type": "markdown",
   "id": "1168e2d2-c4c0-4d14-b7c8-95011a3a5e6c",
   "metadata": {},
   "source": [
    "come possiamo verificare dal grafico"
   ]
  },
  {
   "cell_type": "markdown",
   "id": "328e93ab-de83-4da8-af6f-34f86395858b",
   "metadata": {
    "tags": []
   },
   "source": [
    "andiamo adesso a verificare i valori delle date presenti nel nostro dataframe."
   ]
  },
  {
   "cell_type": "code",
   "execution_count": 157,
   "id": "e997ec7e-8548-493e-8d27-e1ec8b32cf7f",
   "metadata": {
    "tags": []
   },
   "outputs": [
    {
     "data": {
      "text/plain": [
       "array([[<Axes: title={'center': 'Birthdate'}>]], dtype=object)"
      ]
     },
     "execution_count": 157,
     "metadata": {},
     "output_type": "execute_result"
    },
    {
     "data": {
      "image/png": "[encoded data removed]",
      "text/plain": [
       "<Figure size 640x480 with 1 Axes>"
      ]
     },
     "metadata": {},
     "output_type": "display_data"
    }
   ],
   "source": [
    "Date = pd.DataFrame(df[\"Birthdate\"])\n",
    "\n",
    "Date.hist()"
   ]
  },
  {
   "cell_type": "markdown",
   "id": "05646110-c777-4815-b2bf-0278b2c0432f",
   "metadata": {},
   "source": [
    "Alcune date assumono dei valori inconsistenti, in quanto o vi sono presenti anni superiore alla data attuale, o le persone descritte avrebbero troppi pochi anni per effettivamente svolgere operazioni con una carta di credito "
   ]
  },
  {
   "cell_type": "code",
   "execution_count": 158,
   "id": "8f4bfa05-e49d-4072-9e36-d54c6dc4f5ae",
   "metadata": {
    "tags": []
   },
   "outputs": [],
   "source": [
    "Date = df[\"Birthdate\"]"
   ]
  },
  {
   "cell_type": "code",
   "execution_count": 159,
   "id": "edeff2c0-cdf0-498d-bdac-426926c43cdd",
   "metadata": {
    "tags": []
   },
   "outputs": [],
   "source": [
    "from dateutil.relativedelta import relativedelta\n",
    "\n",
    "for i in Date:\n",
    "    if i.year > 2020:\n",
    "        f = i - relativedelta(years=100)\n",
    "        Date = Date.replace(i,f)"
   ]
  },
  {
   "cell_type": "code",
   "execution_count": 160,
   "id": "ab651e92-bac7-4f04-bf89-8d541826bd42",
   "metadata": {
    "tags": []
   },
   "outputs": [
    {
     "data": {
      "text/plain": [
       "<Axes: >"
      ]
     },
     "execution_count": 160,
     "metadata": {},
     "output_type": "execute_result"
    },
    {
     "data": {
      "image/png": "[encoded data removed]",
      "text/plain": [
       "<Figure size 640x480 with 1 Axes>"
      ]
     },
     "metadata": {},
     "output_type": "display_data"
    }
   ],
   "source": [
    "Date.hist()"
   ]
  },
  {
   "cell_type": "markdown",
   "id": "ef4a4747-d850-4de8-8a4a-eada24150e73",
   "metadata": {},
   "source": [
    "tramite una funzione che va ad operare sulle singole date abbiamo tolto 100 anni dalle date che erano state trascritte in modo errato"
   ]
  },
  {
   "cell_type": "code",
   "execution_count": 161,
   "id": "e92deace-cbf0-46f5-80d1-e4f40c6eac05",
   "metadata": {
    "tags": []
   },
   "outputs": [
    {
     "data": {
      "text/plain": [
       "<Axes: >"
      ]
     },
     "execution_count": 161,
     "metadata": {},
     "output_type": "execute_result"
    },
    {
     "data": {
      "image/png": "[encoded data removed]",
      "text/plain": [
       "<Figure size 640x480 with 1 Axes>"
      ]
     },
     "metadata": {},
     "output_type": "display_data"
    }
   ],
   "source": [
    "df[\"Purchases\"].hist()"
   ]
  },
  {
   "cell_type": "markdown",
   "id": "4dbd4121-d8c5-488d-98ad-0ed3e7d16d5f",
   "metadata": {},
   "source": [
    "in questo caso con un grafico sui Purchases andiamo a vedere che alcuni valori sono sfalzati, ovvero hanno un valore default di 9999 errato."
   ]
  },
  {
   "cell_type": "code",
   "execution_count": 162,
   "id": "05242487-6011-49df-a421-4c22af74997d",
   "metadata": {
    "tags": []
   },
   "outputs": [],
   "source": [
    "for c in df['Purchases']:\n",
    "    if c == 9999:\n",
    "        df['Purchases'] = df['Purchases'].replace(c,None)"
   ]
  },
  {
   "cell_type": "code",
   "execution_count": 163,
   "id": "2d376282-3bb6-4641-92c4-e178d6d41026",
   "metadata": {
    "tags": []
   },
   "outputs": [
    {
     "data": {
      "text/plain": [
       "2.948717948717949"
      ]
     },
     "execution_count": 163,
     "metadata": {},
     "output_type": "execute_result"
    }
   ],
   "source": [
    "df['Purchases'].mean()"
   ]
  },
  {
   "cell_type": "code",
   "execution_count": 164,
   "id": "43168325-3c73-4d83-9e2b-dbc105cb1e1b",
   "metadata": {
    "tags": []
   },
   "outputs": [],
   "source": [
    "for c in df['Purchases']:\n",
    "    if c == None:\n",
    "        df['Purchases'] = df['Purchases'].replace('None',3)"
   ]
  },
  {
   "cell_type": "markdown",
   "id": "562a7578-4776-4ac5-91eb-d39681e2ec15",
   "metadata": {},
   "source": [
    "abbiamo in questo modo rimpiazzato tutti i valori sfalzati con una media dei valori calcolata\n"
   ]
  },
  {
   "cell_type": "markdown",
   "id": "d6701650-4492-4d63-9897-1bec1eda09f7",
   "metadata": {},
   "source": [
    "andiamo ora a verificare che tutti gli SSN siano unici tra loro, nel caso in cui dovessimo trovare dei duplicati andiamo ad eliminare le tuple in questione"
   ]
  },
  {
   "cell_type": "code",
   "execution_count": 165,
   "id": "9895fbd7-3513-4146-bfce-74dea1cfd72f",
   "metadata": {
    "tags": []
   },
   "outputs": [],
   "source": [
    "SSN = df[\"SSN\"]"
   ]
  },
  {
   "cell_type": "code",
   "execution_count": 168,
   "id": "921c402e-08f3-4b45-a76c-82aa423d1245",
   "metadata": {
    "tags": []
   },
   "outputs": [
    {
     "data": {
      "text/plain": [
       "2"
      ]
     },
     "execution_count": 168,
     "metadata": {},
     "output_type": "execute_result"
    }
   ],
   "source": [
    "SSN.duplicated().sum()"
   ]
  },
  {
   "cell_type": "markdown",
   "id": "4a3e982a-5a8f-4b2a-9ba1-c4a82c748d55",
   "metadata": {},
   "source": [
    "vediamo con questa funzione che ci sono due duplicati all'interno del nostro dataframe. Andiamo ora a droppare tali elementi"
   ]
  },
  {
   "cell_type": "code",
   "execution_count": 171,
   "id": "dc97eea4-4674-4ec7-890a-98058514ccff",
   "metadata": {
    "tags": []
   },
   "outputs": [],
   "source": [
    "SSN = SSN.drop_duplicates()"
   ]
  },
  {
   "cell_type": "code",
   "execution_count": 172,
   "id": "99b3b2b2-7bd6-4430-98a3-6cd3d74ef18c",
   "metadata": {
    "tags": []
   },
   "outputs": [
    {
     "data": {
      "text/plain": [
       "0"
      ]
     },
     "execution_count": 172,
     "metadata": {},
     "output_type": "execute_result"
    }
   ],
   "source": [
    "SSN.duplicated().sum()"
   ]
  },
  {
   "cell_type": "markdown",
   "id": "a351a09a-197b-4dad-8131-2c41af2fa368",
   "metadata": {},
   "source": [
    "abbiamo eliminato tutte le tuple duplicate dato che non avevamo ricevuto particolari istruzioni a riguardo"
   ]
  },
  {
   "cell_type": "markdown",
   "id": "0b6a0a64-9567-4ec3-bdb7-ffdf27619f9e",
   "metadata": {},
   "source": [
    "potremmo ora esportare il dataframe finale in un formato che più ci piace"
   ]
  }
 ],
 "metadata": {
  "kernelspec": {
   "display_name": "Python 3 (ipykernel)",
   "language": "python",
   "name": "python3"
  },
  "language_info": {
   "codemirror_mode": {
    "name": "ipython",
    "version": 3
   },
   "file_extension": ".py",
   "mimetype": "text/x-python",
   "name": "python",
   "nbconvert_exporter": "python",
   "pygments_lexer": "ipython3",
   "version": "3.11.2"
  }
 },
 "nbformat": 4,
 "nbformat_minor": 5
}
